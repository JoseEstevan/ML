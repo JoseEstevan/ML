{
 "cells": [
  {
   "cell_type": "markdown",
   "metadata": {},
   "source": [
    "# Apartamentos SP"
   ]
  },
  {
   "cell_type": "markdown",
   "metadata": {},
   "source": [
    "Nesse projeto, vamos usar um modelo de regressão linear para predizer o preço de apartamentos em São Paulo.     \n",
    "Usaremos o cuML para desenvolver o modelo, o cuML é um conjunto de bibliotecas que implementam algoritmos de aprendizado de máquina e funções matemáticas primitivas que compartilham APIs compatíveis com outros projetos RAPIDS. Na maioria dos casos, a API Python do cuML corresponde à API do scikit-learn.                      "
   ]
  },
  {
   "cell_type": "markdown",
   "metadata": {},
   "source": [
    "O dataset usado foi obtido por meio do Kaggle, porém ele não está mais disponível.                                                                                                         \n",
    "A análise desse dataset já foi feita por mim [aqui](https://bitbucket.org/joseestevan/overview/src/master/Apartamentos%20SP/).                                                             Por conta disso, irei pular a parte da análise exploratória e focar no modelo."
   ]
  },
  {
   "cell_type": "markdown",
   "metadata": {},
   "source": [
    "## Regressão Linear"
   ]
  },
  {
   "cell_type": "code",
   "execution_count": null,
   "metadata": {},
   "outputs": [],
   "source": [
    "import pandas as pd\n",
    "import numpy as np\n",
    "from cuml.preprocessing.model_selection import train_test_split\n",
    "from cuml import LinearRegression\n",
    "from cuml.metrics import mean_squared_error\n",
    "\n",
    "df = pd.read_csv('apartamentos_sp.csv')\n",
    " \n",
    "X = df.drop('final_price', axis = 1)\n",
    "Y = df['final_price']\n",
    "\n",
    "sX_train, sX_test, sY_train, sY_test = train_test_split(sX, sY, train_size=0.7)\n",
    "\n",
    "print(sX_train.shape)\n",
    "\n",
    "print(sX_test.shape)\n",
    "\n",
    "print(sY_train.shape)\n",
    "\n",
    "print(sY_test.shape)"
   ]
  },
  {
   "cell_type": "code",
   "execution_count": null,
   "metadata": {},
   "outputs": [],
   "source": [
    "slr = LinearRegression()\n",
    "\n",
    "slr.fit(sX_train, sY_train)"
   ]
  },
  {
   "cell_type": "code",
   "execution_count": null,
   "metadata": {},
   "outputs": [],
   "source": [
    "sY_pred = slr.predict(sX_test)"
   ]
  },
  {
   "cell_type": "code",
   "execution_count": null,
   "metadata": {},
   "outputs": [],
   "source": [
    "mse = mean_squared_error(sY_test, sY_pred)\n",
    "\n",
    "print(mse)"
   ]
  }
 ],
 "metadata": {
  "kernelspec": {
   "display_name": "Python 3",
   "language": "python",
   "name": "python3"
  },
  "language_info": {
   "codemirror_mode": {
    "name": "ipython",
    "version": 3
   },
   "file_extension": ".py",
   "mimetype": "text/x-python",
   "name": "python",
   "nbconvert_exporter": "python",
   "pygments_lexer": "ipython3",
   "version": "3.8.3"
  }
 },
 "nbformat": 4,
 "nbformat_minor": 4
}
