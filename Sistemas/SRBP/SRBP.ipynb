{
 "cells": [
  {
   "cell_type": "markdown",
   "metadata": {},
   "source": [
    "# Sistema de Recomendação Baseado em Popularidade"
   ]
  },
  {
   "cell_type": "markdown",
   "metadata": {},
   "source": [
    "Projeto criado com o conjunto de dados da Amazon, [Grocery and Gourmet Food](http://jmcauley.ucsd.edu/data/amazon/)."
   ]
  },
  {
   "cell_type": "markdown",
   "metadata": {},
   "source": [
    "\n",
    "Neste projeto, nosso objetivo é criar um sistema de recomendação que nos dará os *n* produtos recomendados para um determinado usuário."
   ]
  },
  {
   "cell_type": "markdown",
   "metadata": {},
   "source": [
    "## SRBP"
   ]
  },
  {
   "cell_type": "code",
   "execution_count": 1,
   "metadata": {},
   "outputs": [],
   "source": [
    "import pandas as pd\n",
    "import numpy as np\n",
    "import matplotlib.pyplot as plt\n",
    "import seaborn as sns\n",
    "sns.set(style='whitegrid')"
   ]
  },
  {
   "cell_type": "code",
   "execution_count": 2,
   "metadata": {},
   "outputs": [
    {
     "data": {
      "text/html": [
       "<div>\n",
       "<style scoped>\n",
       "    .dataframe tbody tr th:only-of-type {\n",
       "        vertical-align: middle;\n",
       "    }\n",
       "\n",
       "    .dataframe tbody tr th {\n",
       "        vertical-align: top;\n",
       "    }\n",
       "\n",
       "    .dataframe thead th {\n",
       "        text-align: right;\n",
       "    }\n",
       "</style>\n",
       "<table border=\"1\" class=\"dataframe\">\n",
       "  <thead>\n",
       "    <tr style=\"text-align: right;\">\n",
       "      <th></th>\n",
       "      <th>user_id</th>\n",
       "      <th>prod_id</th>\n",
       "      <th>rating</th>\n",
       "      <th>timestamp</th>\n",
       "    </tr>\n",
       "  </thead>\n",
       "  <tbody>\n",
       "    <tr>\n",
       "      <th>0</th>\n",
       "      <td>1888861614</td>\n",
       "      <td>ALP49FBWT4I7V</td>\n",
       "      <td>5.0</td>\n",
       "      <td>1370304000</td>\n",
       "    </tr>\n",
       "    <tr>\n",
       "      <th>1</th>\n",
       "      <td>1888861614</td>\n",
       "      <td>A1KPIZOCLB9FZ8</td>\n",
       "      <td>4.0</td>\n",
       "      <td>1400803200</td>\n",
       "    </tr>\n",
       "    <tr>\n",
       "      <th>2</th>\n",
       "      <td>1888861614</td>\n",
       "      <td>A2W0FA06IYAYQE</td>\n",
       "      <td>4.0</td>\n",
       "      <td>1399593600</td>\n",
       "    </tr>\n",
       "    <tr>\n",
       "      <th>3</th>\n",
       "      <td>1888861614</td>\n",
       "      <td>A2PTZTCH2QUYBC</td>\n",
       "      <td>5.0</td>\n",
       "      <td>1397952000</td>\n",
       "    </tr>\n",
       "    <tr>\n",
       "      <th>4</th>\n",
       "      <td>1888861614</td>\n",
       "      <td>A2VNHGJ59N4Z90</td>\n",
       "      <td>4.0</td>\n",
       "      <td>1397606400</td>\n",
       "    </tr>\n",
       "  </tbody>\n",
       "</table>\n",
       "</div>"
      ],
      "text/plain": [
       "      user_id         prod_id  rating   timestamp\n",
       "0  1888861614   ALP49FBWT4I7V     5.0  1370304000\n",
       "1  1888861614  A1KPIZOCLB9FZ8     4.0  1400803200\n",
       "2  1888861614  A2W0FA06IYAYQE     4.0  1399593600\n",
       "3  1888861614  A2PTZTCH2QUYBC     5.0  1397952000\n",
       "4  1888861614  A2VNHGJ59N4Z90     4.0  1397606400"
      ]
     },
     "execution_count": 2,
     "metadata": {},
     "output_type": "execute_result"
    }
   ],
   "source": [
    "df = pd.read_csv('Grocery_and_Gourmet_Food.csv', header=None, names = ['user_id','prod_id','rating', 'timestamp'])\n",
    "df.head()"
   ]
  },
  {
   "cell_type": "code",
   "execution_count": 3,
   "metadata": {},
   "outputs": [],
   "source": [
    "df.drop('timestamp',axis=1, inplace=True)"
   ]
  },
  {
   "cell_type": "markdown",
   "metadata": {},
   "source": [
    "### Análise Exploratória"
   ]
  },
  {
   "cell_type": "code",
   "execution_count": 4,
   "metadata": {},
   "outputs": [
    {
     "data": {
      "text/plain": [
       "(5074160, 3)"
      ]
     },
     "execution_count": 4,
     "metadata": {},
     "output_type": "execute_result"
    }
   ],
   "source": [
    "df.shape"
   ]
  },
  {
   "cell_type": "code",
   "execution_count": 5,
   "metadata": {},
   "outputs": [
    {
     "data": {
      "text/html": [
       "<div>\n",
       "<style scoped>\n",
       "    .dataframe tbody tr th:only-of-type {\n",
       "        vertical-align: middle;\n",
       "    }\n",
       "\n",
       "    .dataframe tbody tr th {\n",
       "        vertical-align: top;\n",
       "    }\n",
       "\n",
       "    .dataframe thead th {\n",
       "        text-align: right;\n",
       "    }\n",
       "</style>\n",
       "<table border=\"1\" class=\"dataframe\">\n",
       "  <thead>\n",
       "    <tr style=\"text-align: right;\">\n",
       "      <th></th>\n",
       "      <th>user_id</th>\n",
       "      <th>prod_id</th>\n",
       "      <th>rating</th>\n",
       "    </tr>\n",
       "  </thead>\n",
       "  <tbody>\n",
       "    <tr>\n",
       "      <th>count</th>\n",
       "      <td>5074160</td>\n",
       "      <td>5074160</td>\n",
       "      <td>5.074160e+06</td>\n",
       "    </tr>\n",
       "    <tr>\n",
       "      <th>unique</th>\n",
       "      <td>283507</td>\n",
       "      <td>2695974</td>\n",
       "      <td>NaN</td>\n",
       "    </tr>\n",
       "    <tr>\n",
       "      <th>top</th>\n",
       "      <td>B00BUKL666</td>\n",
       "      <td>A1LACH6MLQWZ</td>\n",
       "      <td>NaN</td>\n",
       "    </tr>\n",
       "    <tr>\n",
       "      <th>freq</th>\n",
       "      <td>11526</td>\n",
       "      <td>1103</td>\n",
       "      <td>NaN</td>\n",
       "    </tr>\n",
       "    <tr>\n",
       "      <th>mean</th>\n",
       "      <td>NaN</td>\n",
       "      <td>NaN</td>\n",
       "      <td>4.314708e+00</td>\n",
       "    </tr>\n",
       "    <tr>\n",
       "      <th>std</th>\n",
       "      <td>NaN</td>\n",
       "      <td>NaN</td>\n",
       "      <td>1.249303e+00</td>\n",
       "    </tr>\n",
       "    <tr>\n",
       "      <th>min</th>\n",
       "      <td>NaN</td>\n",
       "      <td>NaN</td>\n",
       "      <td>1.000000e+00</td>\n",
       "    </tr>\n",
       "    <tr>\n",
       "      <th>25%</th>\n",
       "      <td>NaN</td>\n",
       "      <td>NaN</td>\n",
       "      <td>4.000000e+00</td>\n",
       "    </tr>\n",
       "    <tr>\n",
       "      <th>50%</th>\n",
       "      <td>NaN</td>\n",
       "      <td>NaN</td>\n",
       "      <td>5.000000e+00</td>\n",
       "    </tr>\n",
       "    <tr>\n",
       "      <th>75%</th>\n",
       "      <td>NaN</td>\n",
       "      <td>NaN</td>\n",
       "      <td>5.000000e+00</td>\n",
       "    </tr>\n",
       "    <tr>\n",
       "      <th>max</th>\n",
       "      <td>NaN</td>\n",
       "      <td>NaN</td>\n",
       "      <td>5.000000e+00</td>\n",
       "    </tr>\n",
       "  </tbody>\n",
       "</table>\n",
       "</div>"
      ],
      "text/plain": [
       "           user_id       prod_id        rating\n",
       "count      5074160       5074160  5.074160e+06\n",
       "unique      283507       2695974           NaN\n",
       "top     B00BUKL666  A1LACH6MLQWZ           NaN\n",
       "freq         11526          1103           NaN\n",
       "mean           NaN           NaN  4.314708e+00\n",
       "std            NaN           NaN  1.249303e+00\n",
       "min            NaN           NaN  1.000000e+00\n",
       "25%            NaN           NaN  4.000000e+00\n",
       "50%            NaN           NaN  5.000000e+00\n",
       "75%            NaN           NaN  5.000000e+00\n",
       "max            NaN           NaN  5.000000e+00"
      ]
     },
     "execution_count": 5,
     "metadata": {},
     "output_type": "execute_result"
    }
   ],
   "source": [
    "df.describe(include='all')"
   ]
  },
  {
   "cell_type": "markdown",
   "metadata": {},
   "source": [
    "Observações:\n",
    "* O ID de usuário que aparece mais vezes é o B00BUKL666 - 11526 vezes\n",
    "* O produto A1LACH6MLQWZ é o que possui mais avaliações - 1103 vezes"
   ]
  },
  {
   "cell_type": "code",
   "execution_count": 6,
   "metadata": {},
   "outputs": [
    {
     "data": {
      "text/plain": [
       "user_id    0\n",
       "prod_id    0\n",
       "rating     0\n",
       "dtype: int64"
      ]
     },
     "execution_count": 6,
     "metadata": {},
     "output_type": "execute_result"
    }
   ],
   "source": [
    "df.isnull().sum()"
   ]
  },
  {
   "cell_type": "code",
   "execution_count": 29,
   "metadata": {},
   "outputs": [
    {
     "name": "stderr",
     "output_type": "stream",
     "text": [
      "C:\\ProgramData\\Anaconda3\\lib\\site-packages\\seaborn\\_decorators.py:36: FutureWarning: Pass the following variable as a keyword arg: x. From version 0.12, the only valid positional argument will be `data`, and passing other arguments without an explicit keyword will result in an error or misinterpretation.\n",
      "  warnings.warn(\n"
     ]
    },
    {
     "data": {
      "image/png": "[encoded data removed]",
      "text/plain": [
       "<Figure size 1080x432 with 1 Axes>"
      ]
     },
     "metadata": {},
     "output_type": "display_data"
    }
   ],
   "source": [
    "# Histograma\n",
    "plt.figure(figsize=(15,6))\n",
    "sns.countplot('rating', data=df, alpha=0.85)\n",
    "plt.xlabel('Notas', size=15)\n",
    "plt.show()"
   ]
  },
  {
   "cell_type": "code",
   "execution_count": 7,
   "metadata": {},
   "outputs": [
    {
     "name": "stdout",
     "output_type": "stream",
     "text": [
      "Número total de notas: 5074160 \n",
      "Número total de usuários: 283507 \n",
      "Número médio de avaliações por usuário: 17.9\n"
     ]
    }
   ],
   "source": [
    "print(f'Número total de notas: {len(df)} \\nNúmero total de usuários: {len(df.user_id.unique())} \\\n",
    "\\nNúmero médio de avaliações por usuário: {round(len(df)/len(df.user_id.unique()),2)}')"
   ]
  },
  {
   "cell_type": "markdown",
   "metadata": {},
   "source": [
    "### Visualização"
   ]
  },
  {
   "cell_type": "code",
   "execution_count": 8,
   "metadata": {},
   "outputs": [],
   "source": [
    "more = df.groupby('user_id').rating.count().sort_values(ascending=False)"
   ]
  },
  {
   "cell_type": "code",
   "execution_count": 9,
   "metadata": {},
   "outputs": [
    {
     "data": {
      "image/png": "[encoded data removed]",
      "text/plain": [
       "<Figure size 1080x360 with 1 Axes>"
      ]
     },
     "metadata": {},
     "output_type": "display_data"
    }
   ],
   "source": [
    "plt.figure(figsize=(15,5))\n",
    "more.head(10).plot(kind='bar', alpha=0.9, width=0.85)\n",
    "plt.title(\"Usuários Que Avaliaram Mais Produtos\", size=15)\n",
    "plt.xticks(rotation=45)\n",
    "plt.show()"
   ]
  },
  {
   "cell_type": "code",
   "execution_count": 10,
   "metadata": {},
   "outputs": [
    {
     "name": "stdout",
     "output_type": "stream",
     "text": [
      "Número de usuários que avaliaram 50 ou mais produtos: 17393\n",
      "Número de usuários que avaliaram mais de 50 produtos: 17017\n"
     ]
    }
   ],
   "source": [
    "print(f'Número de usuários que avaliaram 50 ou mais produtos: {sum(more>=50)}')\n",
    "print(f'Número de usuários que avaliaram mais de 50 produtos: {sum(more>50)}')"
   ]
  },
  {
   "cell_type": "code",
   "execution_count": 11,
   "metadata": {},
   "outputs": [
    {
     "data": {
      "text/plain": [
       "5074160"
      ]
     },
     "execution_count": 11,
     "metadata": {},
     "output_type": "execute_result"
    }
   ],
   "source": [
    "df['rating'].count()"
   ]
  },
  {
   "cell_type": "code",
   "execution_count": 12,
   "metadata": {},
   "outputs": [],
   "source": [
    "# Dataframe com produtos que possuem mais de 50 avaliações\n",
    "new_df=df.groupby(\"prod_id\").filter(lambda x:x['rating'].count() >=50)"
   ]
  },
  {
   "cell_type": "code",
   "execution_count": 13,
   "metadata": {},
   "outputs": [
    {
     "data": {
      "text/html": [
       "<div>\n",
       "<style scoped>\n",
       "    .dataframe tbody tr th:only-of-type {\n",
       "        vertical-align: middle;\n",
       "    }\n",
       "\n",
       "    .dataframe tbody tr th {\n",
       "        vertical-align: top;\n",
       "    }\n",
       "\n",
       "    .dataframe thead th {\n",
       "        text-align: right;\n",
       "    }\n",
       "</style>\n",
       "<table border=\"1\" class=\"dataframe\">\n",
       "  <thead>\n",
       "    <tr style=\"text-align: right;\">\n",
       "      <th></th>\n",
       "      <th>user_id</th>\n",
       "      <th>prod_id</th>\n",
       "      <th>rating</th>\n",
       "    </tr>\n",
       "  </thead>\n",
       "  <tbody>\n",
       "    <tr>\n",
       "      <th>115</th>\n",
       "      <td>4639725043</td>\n",
       "      <td>ALOGZDSPWZI72</td>\n",
       "      <td>4.0</td>\n",
       "    </tr>\n",
       "    <tr>\n",
       "      <th>128</th>\n",
       "      <td>4639725043</td>\n",
       "      <td>A1WOMXOEX90ARI</td>\n",
       "      <td>5.0</td>\n",
       "    </tr>\n",
       "    <tr>\n",
       "      <th>138</th>\n",
       "      <td>4639725043</td>\n",
       "      <td>AADZHUJW0KSDC</td>\n",
       "      <td>4.0</td>\n",
       "    </tr>\n",
       "    <tr>\n",
       "      <th>396</th>\n",
       "      <td>9742356831</td>\n",
       "      <td>A1BJVYTBOS2AGM</td>\n",
       "      <td>5.0</td>\n",
       "    </tr>\n",
       "    <tr>\n",
       "      <th>450</th>\n",
       "      <td>9742356831</td>\n",
       "      <td>ANTWFVZZKSBSF</td>\n",
       "      <td>5.0</td>\n",
       "    </tr>\n",
       "  </tbody>\n",
       "</table>\n",
       "</div>"
      ],
      "text/plain": [
       "        user_id         prod_id  rating\n",
       "115  4639725043   ALOGZDSPWZI72     4.0\n",
       "128  4639725043  A1WOMXOEX90ARI     5.0\n",
       "138  4639725043   AADZHUJW0KSDC     4.0\n",
       "396  9742356831  A1BJVYTBOS2AGM     5.0\n",
       "450  9742356831   ANTWFVZZKSBSF     5.0"
      ]
     },
     "execution_count": 13,
     "metadata": {},
     "output_type": "execute_result"
    }
   ],
   "source": [
    "new_df.head()"
   ]
  },
  {
   "cell_type": "code",
   "execution_count": 14,
   "metadata": {},
   "outputs": [],
   "source": [
    "# Novo DataFrame com média de avaliação e números de avaliações por produto\n",
    "ratings_df = pd.DataFrame(new_df.groupby('prod_id').rating.mean())"
   ]
  },
  {
   "cell_type": "code",
   "execution_count": 15,
   "metadata": {},
   "outputs": [],
   "source": [
    "# Avaliações por produto\n",
    "ratings_df['rating_counts'] = new_df.groupby('prod_id').rating.count()"
   ]
  },
  {
   "cell_type": "code",
   "execution_count": 16,
   "metadata": {},
   "outputs": [
    {
     "data": {
      "text/html": [
       "<div>\n",
       "<style scoped>\n",
       "    .dataframe tbody tr th:only-of-type {\n",
       "        vertical-align: middle;\n",
       "    }\n",
       "\n",
       "    .dataframe tbody tr th {\n",
       "        vertical-align: top;\n",
       "    }\n",
       "\n",
       "    .dataframe thead th {\n",
       "        text-align: right;\n",
       "    }\n",
       "</style>\n",
       "<table border=\"1\" class=\"dataframe\">\n",
       "  <thead>\n",
       "    <tr style=\"text-align: right;\">\n",
       "      <th></th>\n",
       "      <th>rating</th>\n",
       "      <th>rating_counts</th>\n",
       "    </tr>\n",
       "    <tr>\n",
       "      <th>prod_id</th>\n",
       "      <th></th>\n",
       "      <th></th>\n",
       "    </tr>\n",
       "  </thead>\n",
       "  <tbody>\n",
       "    <tr>\n",
       "      <th>A1LACH6MLQWZ</th>\n",
       "      <td>4.914778</td>\n",
       "      <td>1103</td>\n",
       "    </tr>\n",
       "    <tr>\n",
       "      <th>A1GQAKL9CGQLP1</th>\n",
       "      <td>4.508696</td>\n",
       "      <td>690</td>\n",
       "    </tr>\n",
       "    <tr>\n",
       "      <th>A2GJX2KCUSR0EI</th>\n",
       "      <td>4.341837</td>\n",
       "      <td>588</td>\n",
       "    </tr>\n",
       "    <tr>\n",
       "      <th>A2C9XE9I8RSKNX</th>\n",
       "      <td>4.264000</td>\n",
       "      <td>500</td>\n",
       "    </tr>\n",
       "    <tr>\n",
       "      <th>A2Q7DE6NA7VKAJ</th>\n",
       "      <td>3.906694</td>\n",
       "      <td>493</td>\n",
       "    </tr>\n",
       "  </tbody>\n",
       "</table>\n",
       "</div>"
      ],
      "text/plain": [
       "                  rating  rating_counts\n",
       "prod_id                                \n",
       "A1LACH6MLQWZ    4.914778           1103\n",
       "A1GQAKL9CGQLP1  4.508696            690\n",
       "A2GJX2KCUSR0EI  4.341837            588\n",
       "A2C9XE9I8RSKNX  4.264000            500\n",
       "A2Q7DE6NA7VKAJ  3.906694            493"
      ]
     },
     "execution_count": 16,
     "metadata": {},
     "output_type": "execute_result"
    }
   ],
   "source": [
    "# Visualizando os 5 produtos com melhor avaliação\n",
    "ratings_df.sort_values(by='rating_counts', ascending=False).head(5)"
   ]
  },
  {
   "cell_type": "code",
   "execution_count": 26,
   "metadata": {},
   "outputs": [
    {
     "data": {
      "image/png": "[encoded data removed]",
      "text/plain": [
       "<Figure size 1440x576 with 1 Axes>"
      ]
     },
     "metadata": {},
     "output_type": "display_data"
    }
   ],
   "source": [
    "plt.figure(figsize=(20,8))\n",
    "sns.scatterplot(x='rating', y='rating_counts', data=ratings_df, alpha=0.4)\n",
    "plt.show()"
   ]
  },
  {
   "cell_type": "markdown",
   "metadata": {},
   "source": [
    "Aqui podemos perceber que a maior parte dass avaliações estão entre 3-5."
   ]
  },
  {
   "cell_type": "markdown",
   "metadata": {},
   "source": [
    "Agora o que vamos fazer é calcular a média global. Já temos os votos mínimos necessários para ser elegível para o recomendador, ou seja, 50 votos.\n",
    "\n",
    "Em seguida, definiremos uma função para calcular uma média ponderada que pega o número total de votos e o limite (50) e o multiplica pela média global e pela média do produto. A fórmula é:\n",
    "(v/(v+m) * R) + (m/(m+v) * C)\n",
    "\n",
    "- v é o número de votos para o produto;\n",
    "- m são os votos mínimos necessários para serem listados no gráfico;\n",
    "- R é a avaliação média do produto;\n",
    "- C é a média das avaliações."
   ]
  },
  {
   "cell_type": "code",
   "execution_count": 30,
   "metadata": {},
   "outputs": [
    {
     "name": "stdout",
     "output_type": "stream",
     "text": [
      "4.38\n"
     ]
    }
   ],
   "source": [
    "# A média global das avaliações\n",
    "C = ratings_df['rating'].mean()\n",
    "print(round(C,2))"
   ]
  },
  {
   "cell_type": "code",
   "execution_count": 31,
   "metadata": {},
   "outputs": [
    {
     "data": {
      "text/plain": [
       "50"
      ]
     },
     "execution_count": 31,
     "metadata": {},
     "output_type": "execute_result"
    }
   ],
   "source": [
    "# Usa o número mínimo de votos necessários para estar no recomendador\n",
    "m = ratings_df.rating_counts.min(); m"
   ]
  },
  {
   "cell_type": "code",
   "execution_count": 32,
   "metadata": {},
   "outputs": [],
   "source": [
    "# Função que calcula a avaliação ponderada de cada filme\n",
    "def weighted_rating(x, m=m, C=C):\n",
    "    v = x['rating_counts']\n",
    "    R = x['rating']\n",
    "    return (v/(v+m) * R) + (m/(m+v) * C)"
   ]
  },
  {
   "cell_type": "code",
   "execution_count": 34,
   "metadata": {},
   "outputs": [],
   "source": [
    "# Adiciona a 'pontuação' calculada com weighted_rating() ao dataframe\n",
    "ratings_df['score'] = ratings_df.apply(weighted_rating, axis=1)"
   ]
  },
  {
   "cell_type": "code",
   "execution_count": 35,
   "metadata": {},
   "outputs": [
    {
     "data": {
      "text/html": [
       "<div>\n",
       "<style scoped>\n",
       "    .dataframe tbody tr th:only-of-type {\n",
       "        vertical-align: middle;\n",
       "    }\n",
       "\n",
       "    .dataframe tbody tr th {\n",
       "        vertical-align: top;\n",
       "    }\n",
       "\n",
       "    .dataframe thead th {\n",
       "        text-align: right;\n",
       "    }\n",
       "</style>\n",
       "<table border=\"1\" class=\"dataframe\">\n",
       "  <thead>\n",
       "    <tr style=\"text-align: right;\">\n",
       "      <th></th>\n",
       "      <th>rating</th>\n",
       "      <th>rating_counts</th>\n",
       "      <th>score</th>\n",
       "    </tr>\n",
       "    <tr>\n",
       "      <th>prod_id</th>\n",
       "      <th></th>\n",
       "      <th></th>\n",
       "      <th></th>\n",
       "    </tr>\n",
       "  </thead>\n",
       "  <tbody>\n",
       "    <tr>\n",
       "      <th>A2PF64RBR1G1SZ</th>\n",
       "      <td>4.961722</td>\n",
       "      <td>418</td>\n",
       "      <td>4.899794</td>\n",
       "    </tr>\n",
       "    <tr>\n",
       "      <th>A1LACH6MLQWZ</th>\n",
       "      <td>4.914778</td>\n",
       "      <td>1103</td>\n",
       "      <td>4.891677</td>\n",
       "    </tr>\n",
       "    <tr>\n",
       "      <th>A3JXARXF2KGBIS</th>\n",
       "      <td>4.980769</td>\n",
       "      <td>208</td>\n",
       "      <td>4.864742</td>\n",
       "    </tr>\n",
       "    <tr>\n",
       "      <th>A8CGWGJ9OM58J</th>\n",
       "      <td>4.963636</td>\n",
       "      <td>220</td>\n",
       "      <td>4.855938</td>\n",
       "    </tr>\n",
       "    <tr>\n",
       "      <th>A2SQJPUCZNHMZE</th>\n",
       "      <td>4.964646</td>\n",
       "      <td>198</td>\n",
       "      <td>4.847191</td>\n",
       "    </tr>\n",
       "    <tr>\n",
       "      <th>A2NYK9KWFMJV4Y</th>\n",
       "      <td>4.900238</td>\n",
       "      <td>421</td>\n",
       "      <td>4.845230</td>\n",
       "    </tr>\n",
       "    <tr>\n",
       "      <th>AUA29FELQ9CB6</th>\n",
       "      <td>5.000000</td>\n",
       "      <td>122</td>\n",
       "      <td>4.820369</td>\n",
       "    </tr>\n",
       "    <tr>\n",
       "      <th>A1LZJZIHUPLDV4</th>\n",
       "      <td>4.984496</td>\n",
       "      <td>129</td>\n",
       "      <td>4.816220</td>\n",
       "    </tr>\n",
       "    <tr>\n",
       "      <th>A2KMO0N4GW8PX6</th>\n",
       "      <td>4.982759</td>\n",
       "      <td>116</td>\n",
       "      <td>4.801828</td>\n",
       "    </tr>\n",
       "    <tr>\n",
       "      <th>A1JH5EKCDJPXSH</th>\n",
       "      <td>4.967742</td>\n",
       "      <td>124</td>\n",
       "      <td>4.799445</td>\n",
       "    </tr>\n",
       "    <tr>\n",
       "      <th>A3SPRSLV03DT6Y</th>\n",
       "      <td>5.000000</td>\n",
       "      <td>104</td>\n",
       "      <td>4.799373</td>\n",
       "    </tr>\n",
       "    <tr>\n",
       "      <th>A30WOXPI820KFJ</th>\n",
       "      <td>5.000000</td>\n",
       "      <td>100</td>\n",
       "      <td>4.794023</td>\n",
       "    </tr>\n",
       "    <tr>\n",
       "      <th>A1X1CEGHTHMBL1</th>\n",
       "      <td>4.866197</td>\n",
       "      <td>284</td>\n",
       "      <td>4.793723</td>\n",
       "    </tr>\n",
       "    <tr>\n",
       "      <th>A1XQ0F01CF84Y3</th>\n",
       "      <td>4.927632</td>\n",
       "      <td>152</td>\n",
       "      <td>4.792591</td>\n",
       "    </tr>\n",
       "    <tr>\n",
       "      <th>A12FLMSWRKK2IK</th>\n",
       "      <td>4.963303</td>\n",
       "      <td>109</td>\n",
       "      <td>4.780524</td>\n",
       "    </tr>\n",
       "  </tbody>\n",
       "</table>\n",
       "</div>"
      ],
      "text/plain": [
       "                  rating  rating_counts     score\n",
       "prod_id                                          \n",
       "A2PF64RBR1G1SZ  4.961722            418  4.899794\n",
       "A1LACH6MLQWZ    4.914778           1103  4.891677\n",
       "A3JXARXF2KGBIS  4.980769            208  4.864742\n",
       "A8CGWGJ9OM58J   4.963636            220  4.855938\n",
       "A2SQJPUCZNHMZE  4.964646            198  4.847191\n",
       "A2NYK9KWFMJV4Y  4.900238            421  4.845230\n",
       "AUA29FELQ9CB6   5.000000            122  4.820369\n",
       "A1LZJZIHUPLDV4  4.984496            129  4.816220\n",
       "A2KMO0N4GW8PX6  4.982759            116  4.801828\n",
       "A1JH5EKCDJPXSH  4.967742            124  4.799445\n",
       "A3SPRSLV03DT6Y  5.000000            104  4.799373\n",
       "A30WOXPI820KFJ  5.000000            100  4.794023\n",
       "A1X1CEGHTHMBL1  4.866197            284  4.793723\n",
       "A1XQ0F01CF84Y3  4.927632            152  4.792591\n",
       "A12FLMSWRKK2IK  4.963303            109  4.780524"
      ]
     },
     "execution_count": 35,
     "metadata": {},
     "output_type": "execute_result"
    }
   ],
   "source": [
    "# Resultado final com os 15 produtos mais populares\n",
    "ratings_df.sort_values(by='score', ascending=False).head(15)"
   ]
  }
 ],
 "metadata": {
  "kernelspec": {
   "display_name": "Python 3",
   "language": "python",
   "name": "python3"
  },
  "language_info": {
   "codemirror_mode": {
    "name": "ipython",
    "version": 3
   },
   "file_extension": ".py",
   "mimetype": "text/x-python",
   "name": "python",
   "nbconvert_exporter": "python",
   "pygments_lexer": "ipython3",
   "version": "3.8.5"
  }
 },
 "nbformat": 4,
 "nbformat_minor": 4
}
